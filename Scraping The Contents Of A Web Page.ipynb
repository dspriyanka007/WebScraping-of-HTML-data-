{
 "cells": [
  {
   "cell_type": "markdown",
   "metadata": {},
   "source": [
    "### Downloading And Scraping The Contents Of A Web Page"
   ]
  },
  {
   "cell_type": "code",
   "execution_count": 1,
   "metadata": {},
   "outputs": [],
   "source": [
    "from bs4 import BeautifulSoup\n",
    "import requests"
   ]
  },
  {
   "cell_type": "code",
   "execution_count": 2,
   "metadata": {},
   "outputs": [],
   "source": [
    "# We Download the contents of the web page:\n",
    "url = \"http://www.ibm.com\""
   ]
  },
  {
   "cell_type": "code",
   "execution_count": 3,
   "metadata": {},
   "outputs": [],
   "source": [
    "# We use get to download the contents of the webpage in text format and store in a variable called data:\n",
    "data = requests.get(url).text"
   ]
  },
  {
   "cell_type": "code",
   "execution_count": 5,
   "metadata": {},
   "outputs": [],
   "source": [
    "# We create a BeautifulSoup object using the BeautifulSoup constructor\n",
    "soup = BeautifulSoup(data, 'html5lib') # create a soup object using the variable 'data'"
   ]
  },
  {
   "cell_type": "raw",
   "metadata": {},
   "source": [
    "The href attribute specifies the URL of the page the link goes to. If the href attribute is not present, the <a> tag will not be a hyperlink. Tip: You can use href=\"#top\" or href=\"#\" to link to the top of the current page!"
   ]
  },
  {
   "cell_type": "code",
   "execution_count": 6,
   "metadata": {},
   "outputs": [
    {
     "name": "stdout",
     "output_type": "stream",
     "text": [
      "https://www.ibm.com/in/en\n",
      "https://www.ibm.com/sitemap/in/en\n",
      "https://www.ibm.com/events/think/?lnk=inhpv18l1\n",
      "https://www.ibm.com/in-en/about#2825811\n",
      "https://developer.ibm.com/callforcode/?utm_medium=OSocial&utm_source=Blog&utm_content=000031SE&utm_term=10008401&utm_id=Homepage-inside\n",
      "https://www.ibm.com/training/cloud?lnk=inhpv2\n",
      "https://www.ibm.com/blogs/journey-to-ai/2021/03/ibm-is-named-a-leader-2021-magic-quadrant-for-data-science-and-machine-learning-platforms/\n",
      "https://www.ibm.com/in-en/events/cloud-podcasts?lnk=inhpv18f2\n",
      "https://www.ibm.com/account/reg/in-en/signup?formid=urx-49364\n",
      "https://www.ibm.com/in-en/cloud/satellite?inhome=\n",
      "/in-en/products/offers-and-discounts?lnk=hpv18t5\n",
      "https://www.ibm.com/in-en/cloud/free?lnk=STW_IN_HP_T1_BLK&psrc=NONE&pexp=DEF&lnk2=trial_Cloud\n",
      "https://www.ibm.com/products/digital-learning-subscription/pricing?lnk=STW_IN_HP_T5_BLK&psrc=NONE&pexp=DEF&lnk2=trial_training\n",
      "https://www.ibm.com/in-en/products/cloud-pak-for-data?lnk=STW_IN_HP_T3_BLK&psrc=NONE&pexp=DEF&lnk2=trial_CloudPakData\n",
      "https://www.ibm.com/in-en/security/identity-access-management/cloud-identity?lnk=STW_IN_HP_T4_BLK&psrc=NONE&pexp=DEF&lnk2=trial_IdentAccMgmtSvc\n",
      "https://www.ibm.com/in-en/cloud/aspera?lnk=STW_IN_HP_T5_BLK&psrc=NONE&pexp=DEF&lnk2=trial_AsperaCloud\n",
      "https://www.ibm.com/account/reg/us-en/signup?formid=urx-46597&lnk=STW_IN_HP_T2_BLK&psrc=NONE&pexp=DEF&lnk2=trial_RoboticProcess\n",
      "https://developer.ibm.com/depmodels/cloud/?lnk=hpv18ct16\n",
      "https://developer.ibm.com/technologies/artificial-intelligence?lnk=hpv18ct19\n",
      "https://www.ibm.com/demos/?lnk=hpv18ct12\n",
      "https://developer.ibm.com/?lnk=hpv18ct9\n",
      "https://www.ibm.com/docs/en?lnk=hpv18ct14\n",
      "https://www.redbooks.ibm.com/?lnk=ushpv18ct10\n",
      "https://www.ibm.com/support/home/?lnk=hpv18ct11\n",
      "https://www.ibm.com/training/?lnk=hpv18ct15\n",
      "https://www.ibm.com/in-en/cloud/hybrid?lnk=inhpv18pt1\n",
      "https://www.ibm.com/in-en/cloud/learn/public-cloud?lnk=inhpv18pt2\n",
      "https://www.ibm.com/in-en/watson?lnk=inhpv18pt3\n",
      "https://www.ibm.com/in-en/garage?lnk=inhpv18pt4\n",
      "https://www.ibm.com/in-en/blockchain?lnk=inhpv18pt5\n",
      "https://www.ibm.com/thought-leadership/institute-business-value/?lnk=inhpv18pt6\n",
      "https://www.ibm.com/in-en/analytics?lnk=inhpv18pt7\n",
      "https://www.ibm.com/in-en/security?lnk=inhpv18pt8\n",
      "https://www.ibm.com/in-en/financing?lnk=inhpv18pt9\n",
      "https://www.ibm.com/in-en/cloud/redhat?lnk=hpv18ct13\n",
      "https://www.ibm.com/in-en/artificial-intelligence?lnk=hpv18ct3\n",
      "https://www.ibm.com/in-en/cloud/satellite?lnk=hpv18ct1\n",
      "https://www.ibm.com/in-en/it-infrastructure?lnk=hpv18ct20\n",
      "https://www.ibm.com/quantum-computing?lnk=hpv18ct18\n",
      "https://www.ibm.com/in-en/cloud/learn/kubernetes?lnk=ushpv18ct8?lnk=hpv18ct8\n",
      "https://www.ibm.com/in-en/products/spss-statistics?lnk=ushpv18ct7\n",
      "https://www.ibm.com/in-en/blockchain?lnk=hpv18ct1\n",
      "https://www.ibm.com/in-en/employment?lnk=hpv18ct2\n",
      "https://www.ibm.com/case-studies/coca-cola-european-partners/?lnk=hpv18cs1\n",
      "/case-studies/search?lnk=hpv18cs2\n",
      "#\n"
     ]
    }
   ],
   "source": [
    "for link in soup.find_all('a',href=True):  # in html anchor/link is represented by the tag <a>\n",
    "\n",
    "    print(link.get('href'))\n"
   ]
  },
  {
   "cell_type": "markdown",
   "metadata": {},
   "source": [
    "### Scrape  all images  Tags"
   ]
  },
  {
   "cell_type": "code",
   "execution_count": 8,
   "metadata": {},
   "outputs": [
    {
     "name": "stdout",
     "output_type": "stream",
     "text": [
      "<img alt=\"call for code challenge\" class=\"\" loading=\"lazy\" src=\"//1.cms.s81c.com/sites/default/files/2021-05-02/Original-CFC-444x320%20%281%29.jpg\"/>\n",
      "//1.cms.s81c.com/sites/default/files/2021-05-02/Original-CFC-444x320%20%281%29.jpg\n",
      "<img alt=\"cloud training\" class=\"\" loading=\"lazy\" src=\"//1.cms.s81c.com/sites/default/files/2021-04-30/cq5dam.web_.1280.1280.jpeg\"/>\n",
      "//1.cms.s81c.com/sites/default/files/2021-04-30/cq5dam.web_.1280.1280.jpeg\n",
      "<img alt=\"cloud gartner\" class=\"\" loading=\"lazy\" src=\"//1.cms.s81c.com/sites/default/files/2021-03-26/cc%20%281%29.jpg\"/>\n",
      "//1.cms.s81c.com/sites/default/files/2021-03-26/cc%20%281%29.jpg\n",
      "<img alt=\"cloud podcast\" class=\"\" loading=\"lazy\" src=\"//1.cms.s81c.com/sites/default/files/2021-03-26/Logo-Lockup-444-w-x-320h-px.jpg\"/>\n",
      "//1.cms.s81c.com/sites/default/files/2021-03-26/Logo-Lockup-444-w-x-320h-px.jpg\n",
      "<img alt=\"\" class=\"\" loading=\"lazy\" src=\"//1.cms.s81c.com/sites/default/files/2021-03-26/20210301-xforce-threat-intelligence-444x320%20%281%29.png\"/>\n",
      "//1.cms.s81c.com/sites/default/files/2021-03-26/20210301-xforce-threat-intelligence-444x320%20%281%29.png\n",
      "<img alt=\"\" class=\"\" loading=\"lazy\" src=\"//1.cms.s81c.com/sites/default/files/2021-04-05/Original-IBM%20Cloud%20Satellite%20Launch%20CA%20card.jpg\"/>\n",
      "//1.cms.s81c.com/sites/default/files/2021-04-05/Original-IBM%20Cloud%20Satellite%20Launch%20CA%20card.jpg\n",
      "<img alt=\"screenshot of the IBM Cloud dashboard\" class=\"\" loading=\"lazy\" src=\"//1.cms.s81c.com/sites/default/files/2021-04-07/ibm-cloud-trial.png\"/>\n",
      "//1.cms.s81c.com/sites/default/files/2021-04-07/ibm-cloud-trial.png\n",
      "<img alt=\"cloud training india\" class=\"\" loading=\"lazy\" src=\"//1.cms.s81c.com/sites/default/files/2021-04-30/Digital-Learning-Subscription-trial.png\"/>\n",
      "//1.cms.s81c.com/sites/default/files/2021-04-30/Digital-Learning-Subscription-trial.png\n",
      "<img alt=\"Cloud pak for data screenshot\" class=\"\" loading=\"lazy\" src=\"//1.cms.s81c.com/sites/default/files/2021-04-07/cloud-pak-for-data-trial.png\"/>\n",
      "//1.cms.s81c.com/sites/default/files/2021-04-07/cloud-pak-for-data-trial.png\n",
      "<img alt=\"security-verify-trial\" class=\"\" loading=\"lazy\" src=\"//1.cms.s81c.com/sites/default/files/2021-04-27/security-verify-trial%20%281%29.png\"/>\n",
      "//1.cms.s81c.com/sites/default/files/2021-04-27/security-verify-trial%20%281%29.png\n",
      "<img alt=\"aspera\" class=\"\" loading=\"lazy\" src=\"//1.cms.s81c.com/sites/default/files/2021-04-27/Aspera-on-Cloud-19783-700x420.png\"/>\n",
      "//1.cms.s81c.com/sites/default/files/2021-04-27/Aspera-on-Cloud-19783-700x420.png\n",
      "<img alt=\"\" class=\"\" loading=\"lazy\" src=\"//1.cms.s81c.com/sites/default/files/2021-04-09/robotic-process-automation.png\"/>\n",
      "//1.cms.s81c.com/sites/default/files/2021-04-09/robotic-process-automation.png\n"
     ]
    }
   ],
   "source": [
    "for link in soup.find_all('img'):# in html image is represented by the tag <img>\n",
    "    print(link)\n",
    "    print(link.get('src'))"
   ]
  },
  {
   "cell_type": "markdown",
   "metadata": {},
   "source": [
    "### Scrape data from HTML tables"
   ]
  },
  {
   "cell_type": "code",
   "execution_count": 9,
   "metadata": {},
   "outputs": [],
   "source": [
    "#The below url contains an html table with data about colors and color codes.\n",
    "url = \"https://cf-courses-data.s3.us.cloud-object-storage.appdomain.cloud/IBM-DA0321EN-SkillsNetwork/labs/datasets/HTMLColorCodes.html\""
   ]
  },
  {
   "cell_type": "code",
   "execution_count": 10,
   "metadata": {},
   "outputs": [],
   "source": [
    "# get the contents of the webpage in text format and store in a variable called data\n",
    "data  = requests.get(url).text"
   ]
  },
  {
   "cell_type": "code",
   "execution_count": 13,
   "metadata": {},
   "outputs": [],
   "source": [
    "soup = BeautifulSoup(data,'html5lib')"
   ]
  },
  {
   "cell_type": "code",
   "execution_count": 14,
   "metadata": {},
   "outputs": [],
   "source": [
    "#find a html table in the web page\n",
    "table = soup.find('table') # in html table is represented by the tag <table>"
   ]
  },
  {
   "cell_type": "code",
   "execution_count": 15,
   "metadata": {},
   "outputs": [
    {
     "name": "stdout",
     "output_type": "stream",
     "text": [
      "Color Name--->None\n",
      "lightsalmon--->#FFA07A\n",
      "salmon--->#FA8072\n",
      "darksalmon--->#E9967A\n",
      "lightcoral--->#F08080\n",
      "coral--->#FF7F50\n",
      "tomato--->#FF6347\n",
      "orangered--->#FF4500\n",
      "gold--->#FFD700\n",
      "orange--->#FFA500\n",
      "darkorange--->#FF8C00\n",
      "lightyellow--->#FFFFE0\n",
      "lemonchiffon--->#FFFACD\n",
      "papayawhip--->#FFEFD5\n",
      "moccasin--->#FFE4B5\n",
      "peachpuff--->#FFDAB9\n",
      "palegoldenrod--->#EEE8AA\n",
      "khaki--->#F0E68C\n",
      "darkkhaki--->#BDB76B\n",
      "yellow--->#FFFF00\n",
      "lawngreen--->#7CFC00\n",
      "chartreuse--->#7FFF00\n",
      "limegreen--->#32CD32\n",
      "lime--->#00FF00\n",
      "forestgreen--->#228B22\n",
      "green--->#008000\n",
      "powderblue--->#B0E0E6\n",
      "lightblue--->#ADD8E6\n",
      "lightskyblue--->#87CEFA\n",
      "skyblue--->#87CEEB\n",
      "deepskyblue--->#00BFFF\n",
      "lightsteelblue--->#B0C4DE\n",
      "dodgerblue--->#1E90FF\n"
     ]
    }
   ],
   "source": [
    "#Get all rows from the table\n",
    "for row in table.find_all('tr'): # in html table row is represented by the tag <tr>\n",
    "    # Get all columns in each row.\n",
    "    cols = row.find_all('td') # in html a column is represented by the tag <td>\n",
    "    color_name = cols[2].string # store the value in column 3 as color_name\n",
    "    color_code = cols[3].string # store the value in column 4 as color_code\n",
    "    print(\"{}--->{}\".format(color_name,color_code))"
   ]
  }
 ],
 "metadata": {
  "kernelspec": {
   "display_name": "Python 3",
   "language": "python",
   "name": "python3"
  },
  "language_info": {
   "codemirror_mode": {
    "name": "ipython",
    "version": 3
   },
   "file_extension": ".py",
   "mimetype": "text/x-python",
   "name": "python",
   "nbconvert_exporter": "python",
   "pygments_lexer": "ipython3",
   "version": "3.8.5"
  }
 },
 "nbformat": 4,
 "nbformat_minor": 4
}
